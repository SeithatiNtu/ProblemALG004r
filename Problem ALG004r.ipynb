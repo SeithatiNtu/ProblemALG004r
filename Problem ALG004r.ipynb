{
 "cells": [
  {
   "cell_type": "code",
   "execution_count": 1,
   "id": "charitable-blond",
   "metadata": {},
   "outputs": [
    {
     "name": "stdout",
     "output_type": "stream",
     "text": [
      "[[8 1 6]\n",
      " [3 5 7]\n",
      " [4 9 2]]\n"
     ]
    }
   ],
   "source": [
    "import numpy as np\n",
    "\n",
    "class ProblemALG004r:\n",
    "    def __init__(magic, N):\n",
    "        magic.N = N\n",
    "    def magicsquare(n):\n",
    "        magic_square = np.zeros((n.N, n.N), dtype=int)\n",
    "        #a = 1\n",
    "        #b, c = 0, n.N//2\n",
    "        #magic_square = np.zeros((w.N,w.N), dtype=int)\n",
    "\n",
    "        a = 1\n",
    "        b, c = 0, n.N//2\n",
    "        \n",
    "        \n",
    "        while a <= n.N**2:\n",
    "            magic_square[b, c] = a\n",
    "            a +=1\n",
    "            newb, newc = (b-1) % n.N, (c+1) % n.N\n",
    "            if magic_square[newb, newc]:\n",
    "                b +=1\n",
    "            else:\n",
    "                b,c = newb, newc\n",
    "        print(magic_square)\n",
    "        \n",
    "magic1 = ProblemALG004r(3)  \n",
    "magic1.magicsquare()"
   ]
  },
  {
   "cell_type": "code",
   "execution_count": null,
   "id": "stopped-mouth",
   "metadata": {},
   "outputs": [],
   "source": []
  }
 ],
 "metadata": {
  "kernelspec": {
   "display_name": "Python 3",
   "language": "python",
   "name": "python3"
  },
  "language_info": {
   "codemirror_mode": {
    "name": "ipython",
    "version": 3
   },
   "file_extension": ".py",
   "mimetype": "text/x-python",
   "name": "python",
   "nbconvert_exporter": "python",
   "pygments_lexer": "ipython3",
   "version": "3.9.2"
  }
 },
 "nbformat": 4,
 "nbformat_minor": 5
}
